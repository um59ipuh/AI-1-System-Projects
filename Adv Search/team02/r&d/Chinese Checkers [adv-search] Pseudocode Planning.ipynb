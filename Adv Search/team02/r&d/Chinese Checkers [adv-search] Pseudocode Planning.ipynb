{
 "cells": [
  {
   "cell_type": "markdown",
   "id": "f6922560",
   "metadata": {},
   "source": [
    "## Steps in Big Pictures\n",
    "1. Initialize checker board\n",
    "2. Get peg positions from server\n",
    "3. update board with new peg positions\n",
    "4. Calculate best move\n",
    "5. Send move to server"
   ]
  },
  {
   "cell_type": "markdown",
   "id": "9f7dcb28",
   "metadata": {},
   "source": [
    "## Initialize Checker Board\n",
    "### Steps\n",
    "1. Create a .json file with position.[maybe it would be hard coded but seems ok for this game, cause the coordinates are fixed]\n",
    "2. Load the json \n",
    "3. Create the board as graph"
   ]
  },
  {
   "cell_type": "code",
   "execution_count": 61,
   "id": "3fd055c9",
   "metadata": {},
   "outputs": [],
   "source": [
    "# read json file to create a graph\n",
    "import json\n",
    "board = {}\n",
    "with open('board.json', 'r') as f: #../\n",
    "    data = json.load(f)\n",
    "    for pos in data:\n",
    "        #print(f\"Type of pos: {type(pos)}\")\n",
    "        coordinate = list(pos.keys())[0]\n",
    "        infos = pos[coordinate]\n",
    "        board[coordinate] = infos\n",
    "        \n",
    "        #print(f\"pos : {coordinate}\")\n",
    "        \n",
    "#board"
   ]
  },
  {
   "cell_type": "code",
   "execution_count": 62,
   "id": "2966253d",
   "metadata": {},
   "outputs": [],
   "source": [
    "CONNECTED_COORDINATES = \"conn_coors\"\n",
    "HEURISTIC = \"heuristic\"\n",
    "TYPE = \"type\"\n",
    "HOLD = \"hold\""
   ]
  },
  {
   "cell_type": "code",
   "execution_count": 63,
   "id": "02ec1ce6",
   "metadata": {},
   "outputs": [
    {
     "name": "stdout",
     "output_type": "stream",
     "text": [
      "next_position_by_simple_move for pos: 3,-3\n"
     ]
    }
   ],
   "source": [
    "# test just simple move\n",
    "def next_position_by_simple_move(cord):\n",
    "    # check if adjacent positions has peg or not?\n",
    "    # save the best heuristic position\n",
    "    # cord=\"(-1,-1)\"\n",
    "    adj_pos = board[cord]['conn_coors']\n",
    "    best_move = None\n",
    "    for pos in adj_pos:\n",
    "        pos_move = board[pos]['hold']\n",
    "        if board[pos]['hold'] == None:\n",
    "            if best_move == None:\n",
    "                best_move = pos\n",
    "            if board[best_move]['heuristic'] > board[pos]['heuristic']:\n",
    "                best_move = pos\n",
    "                \n",
    "    # TODO: try to check if there 'S' shape is possible or not\n",
    "                \n",
    "    return best_move\n",
    "\n",
    "pos = \"3,-4\"\n",
    "print(f\"next_position_by_simple_move for pos: {next_position_by_simple_move(pos)}\")"
   ]
  },
  {
   "cell_type": "code",
   "execution_count": 5,
   "id": "f4d15f7a",
   "metadata": {},
   "outputs": [],
   "source": [
    "jp_x, jp_y = int(\"3,-4\".split(\",\")[0]), int(\"3,-4\".split(\",\")[1])\n",
    "#\"3,-4\" == \",\".join([3,-4])\n",
    "f\"{3},{-4}\" == \"3,-4\"\n",
    "li = [(\"A\", 2), (\"S\", 23), (\"ZA\", 0), (\"YZ\", -1)]\n",
    "li.sort(key= lambda x: x[1], reverse= True)\n",
    "li\n",
    "import copy\n",
    "reli = [\"2,-3\", \"2,-2\", \"1,-1\", \"0,-1\", \"0,-2\", \"1,-3\"]\n",
    "celi = copy.copy(reli)\n",
    "celi.remove(\"2,-3\")\n",
    "reli\n",
    "sum([1,2,3,4,5])\n",
    "d = {3: 6, 1: 2, 2: 4}\n",
    "#sorted(d, )"
   ]
  },
  {
   "cell_type": "code",
   "execution_count": 64,
   "id": "b72ca286",
   "metadata": {},
   "outputs": [
    {
     "name": "stdout",
     "output_type": "stream",
     "text": [
      "Jumping : 3,-4, helper: 2,-3\n"
     ]
    },
    {
     "data": {
      "text/plain": [
       "'1,-2'"
      ]
     },
     "execution_count": 64,
     "metadata": {},
     "output_type": "execute_result"
    }
   ],
   "source": [
    "# jp : \"2,-3\"\n",
    "def is_jump_possible(jp: str, hp: str) -> bool:\n",
    "    jumping_peg = jp.split(\",\")\n",
    "    jp_x = int(jumping_peg[0])\n",
    "    jp_y = int(jumping_peg[1])\n",
    "    helper_peg = hp.split(\",\")\n",
    "    hp_x = int(helper_peg[0])\n",
    "    hp_y = int(helper_peg[1])\n",
    "    \n",
    "    \n",
    "    # TODO: correctly define jumping peg\n",
    "    \n",
    "    x_diff = hp_x - jp_x\n",
    "    y_diff = hp_y - jp_y\n",
    "    \n",
    "    print(f\"Jumping : {jp}, helper: {hp}\")\n",
    "    hoping_pos = f\"{hp_x + x_diff},{hp_y + y_diff}\"\n",
    "    # print(hoping_pos)\n",
    "    # if hoping position is free to move then return position or return none\n",
    "    if hoping_pos in board and board[hoping_pos]['hold'] == None:\n",
    "        return hoping_pos\n",
    "    else:\n",
    "        return None\n",
    "    \n",
    "is_jump_possible(\"3,-4\", \"2,-3\")"
   ]
  },
  {
   "cell_type": "code",
   "execution_count": 66,
   "id": "24496509",
   "metadata": {},
   "outputs": [
    {
     "data": {
      "text/plain": [
       "['1,-2']"
      ]
     },
     "execution_count": 66,
     "metadata": {},
     "output_type": "execute_result"
    }
   ],
   "source": [
    "import copy\n",
    "def moving_by_hop_chain(start_cord, curr_cord, pre_hp_cord):\n",
    "    if is_stop_for_hop_chain(start_cord, curr_cord, pre_hp_cord):\n",
    "        return [curr_cord]\n",
    "    \n",
    "    possible_moves = []\n",
    "    \n",
    "    adj_pos = copy.copy(board[curr_cord]['conn_coors'])\n",
    "    adj_pos.remove(pre_hp_cord)\n",
    "    \n",
    "    for pos in adj_pos:\n",
    "        possible_moves.append([curr_cord], [board[curr_cord][HEURISTIC]])\n",
    "        if board[pos]['hold'] != None:\n",
    "            jump_pos = is_jump_possible(curr_cord, pos)\n",
    "            if jump_pos != None:\n",
    "                moving_pos_for_jump = moving_by_hop_chain(start_cord, jump_pos, pos)\n",
    "                \n",
    "                path = [start_cord] + moving_pos_for_jump[0]\n",
    "                board_val = board[moving_pos_for_jump[0][-1]]\n",
    "                possible_moves.append([path, board_val['heuristic']])\n",
    "    possible_moves.sort(key= lambda x: x[1]) # sort based on heuristic value\n",
    "    print(f\"POssible moves: {possible_moves}\")\n",
    "    return possible_moves[0] # first tuple -> first value\n",
    "\n",
    "moving_by_hop_chain(\"3,-4\", \"1,-2\", \"2,-3\")\n",
    "#moving_by_hop_chain(\"2,-1\", \"0,-1\", \"1,-1\")"
   ]
  },
  {
   "cell_type": "code",
   "execution_count": 65,
   "id": "2bc35e2e",
   "metadata": {},
   "outputs": [
    {
     "data": {
      "text/plain": [
       "True"
      ]
     },
     "execution_count": 65,
     "metadata": {},
     "output_type": "execute_result"
    }
   ],
   "source": [
    "def is_stop_for_hop_chain(start_cord, moving_cord, pre_hp_cord):\n",
    "    # if there are no position for moving by hop chain\n",
    "    adj_pos = board[moving_cord]['conn_coors'] #possible delete pre_hp_cord\n",
    "    hop_check_list = []\n",
    "    for pos in adj_pos:\n",
    "        # TODO: check if swap is possible or not\n",
    "        if board[pos]['hold'] != None and pos != pre_hp_cord:\n",
    "            hop_pos = is_jump_possible(moving_cord, pos)\n",
    "            if hop_pos != None and hop_pos != start_cord:\n",
    "                return False\n",
    "    return True\n",
    "is_stop_for_hop_chain(\"3,-4\", \"-1,2\", \"0,1\")"
   ]
  },
  {
   "cell_type": "code",
   "execution_count": 8,
   "id": "e24e0eab",
   "metadata": {},
   "outputs": [],
   "source": [
    "peg_curr_pos = [\"3,-4\", \"2,-3\", \"0,-1\", \"0,2\", \"-1,3\", \"-2,5\"]"
   ]
  },
  {
   "cell_type": "code",
   "execution_count": 9,
   "id": "7f29ef9b",
   "metadata": {},
   "outputs": [],
   "source": [
    "def cal_game_adv_score(pegs: [str]) -> float:\n",
    "    return sum([board[peg]['heuristic'] for peg in pegs])"
   ]
  },
  {
   "cell_type": "code",
   "execution_count": 18,
   "id": "26a185b6",
   "metadata": {},
   "outputs": [
    {
     "name": "stdout",
     "output_type": "stream",
     "text": [
      "Jumping : 3,-4, helper: 2,-3\n",
      "Jumping : 1,-2, helper: 0,-1\n",
      "Jumping : 1,-2, helper: 0,-1\n",
      "Jumping : -1,0, helper: 0,0\n",
      "Jumping : -1,0, helper: 0,0\n",
      "Jumping : 1,0, helper: 0,1\n",
      "Jumping : 1,0, helper: 0,1\n",
      "Jumping : -1,2, helper: 0,2\n",
      "Jumping : -1,2, helper: 0,2\n",
      "Jumping : -1,2, helper: -1,3\n",
      "Jumping : -1,4, helper: -2,5\n",
      "Jumping : -1,4, helper: -2,5\n",
      "Jumping : -1,0, helper: -2,0\n",
      "Jumping : -3,0, helper: -4,1\n",
      "Jumping : -3,0, helper: -3,-1\n",
      "Jumping : -1,0, helper: -1,-1\n",
      "Jumping : 2,-3, helper: 3,-4\n",
      "Jumping : 0,-1, helper: 0,0\n",
      "Jumping : 0,-1, helper: -1,-1\n",
      "Jumping : -2,-1, helper: -1,-2\n",
      "Jumping : -2,-1, helper: -1,-2\n",
      "Jumping : 0,-3, helper: -1,-3\n",
      "Jumping : -2,-1, helper: -2,0\n",
      "Jumping : -2,-1, helper: -3,-1\n",
      "Jumping : 0,2, helper: -1,3\n",
      "Jumping : -2,4, helper: -2,5\n",
      "Jumping : -2,4, helper: -1,-3\n",
      "Jumping : 0,2, helper: 0,1\n",
      "Jumping : -1,3, helper: 0,2\n",
      "Jumping : 1,1, helper: 0,1\n",
      "Jumping : 1,1, helper: 0,1\n",
      "Jumping : -1,1, helper: 0,0\n",
      "Jumping : -1,1, helper: 0,0\n",
      "Jumping : 1,-1, helper: 0,-1\n",
      "Select peg : 3,-4 for miving to : -3,6, cause score is minimum: 24\n"
     ]
    }
   ],
   "source": [
    "def get_next_move():\n",
    "    # TODO: remove the peg which is already in home and no way to move\n",
    "    # TODO: first get all current positions of our pegs\n",
    "    curr_game_score = cal_game_adv_score(peg_curr_pos)\n",
    "    # TODO: find out which move we are going to make, [simple, simple hop, hop chain]\n",
    "    peg_score = {}\n",
    "    for peg in peg_curr_pos:\n",
    "        next_move = next_move_for_one_peg(peg)\n",
    "        game_adv = board[peg][HEURISTIC] - board[next_move][HEURISTIC]\n",
    "        peg_score[peg] = (peg, next_move, curr_game_score - game_adv)\n",
    "    # TODO: calculate board advanced score based on pegs\n",
    "    # TODO: find the peg we should move, which peg minimize our value and maximize other score\n",
    "    min_value = None\n",
    "    val = None\n",
    "    for key, value in peg_score.items():\n",
    "        if min_value == None:\n",
    "            min_value = value[2]\n",
    "            val = value\n",
    "        elif min_value and value[2] < min_value:\n",
    "            min_value = value[2]\n",
    "            val = value\n",
    "    return val\n",
    "peg, next_peg, score = get_next_move()\n",
    "print(f\"Select peg : {peg} for miving to : {next_peg}, cause score is minimum: {score}\")"
   ]
  },
  {
   "cell_type": "code",
   "execution_count": 17,
   "id": "434d4ad3",
   "metadata": {},
   "outputs": [
    {
     "name": "stdout",
     "output_type": "stream",
     "text": [
      "Jumping : -1,3, helper: 0,2\n",
      "Jumping : 1,1, helper: 0,1\n",
      "Jumping : 1,1, helper: 0,1\n",
      "Jumping : -1,1, helper: 0,0\n",
      "Jumping : -1,1, helper: 0,0\n",
      "Jumping : 1,-1, helper: 0,-1\n",
      "Move for peg : -1,3 is -> -1,4\n"
     ]
    }
   ],
   "source": [
    "def next_move_for_one_peg(peg_pos: str) -> str:\n",
    "    adj_pos = board[peg_pos][CONNECTED_COORDINATES]\n",
    "    possible_moves = {}\n",
    "    for a_pos in adj_pos:\n",
    "        # jump possible\n",
    "        if board[a_pos][HOLD] != None:\n",
    "            hop_pos = is_jump_possible(peg_pos, a_pos)\n",
    "            if hop_pos != None:\n",
    "                hop_chain_pos = moving_by_hop_chain(peg_pos ,hop_pos, a_pos)\n",
    "                possible_moves[hop_chain_pos] = [board[hop_chain_pos][HEURISTIC], 'H']\n",
    "        # jump not possible, check for sigle move\n",
    "        else:\n",
    "            if board[a_pos][HOLD] == None:\n",
    "                possible_moves[a_pos] = [board[a_pos][HEURISTIC], 'S']\n",
    "    # sort the dict based on for finding optimize move\n",
    "    opt_move = None\n",
    "    for key, value in possible_moves.items():\n",
    "        if opt_move == None:\n",
    "            opt_move = key\n",
    "        else:\n",
    "            if possible_moves[opt_move][0] > possible_moves[key][0]:\n",
    "                opt_move = key\n",
    "                \n",
    "    # TODO: test if move is simple move then try to create shape of 'S' if possible\n",
    "    # then return opt_move\n",
    "    return opt_move\n",
    "\n",
    "peg = \"-1,3\"\n",
    "print(f\"Move for peg : {peg} is -> {next_move_for_one_peg(peg)}\")"
   ]
  },
  {
   "cell_type": "code",
   "execution_count": null,
   "id": "58568e46",
   "metadata": {},
   "outputs": [],
   "source": [
    "# test S shaped conversion\n",
    "# test simple hop move\n",
    "# test hop chain move\n",
    "# calculate next moving probable coordinates\n",
    "# test recursive case for one coordinate move for one peg\n",
    "# return the max value for "
   ]
  },
  {
   "cell_type": "code",
   "execution_count": null,
   "id": "7e702942",
   "metadata": {},
   "outputs": [],
   "source": [
    "def get_next_hop(pos: (int, int)) -> (int, int):\n",
    "    # adjacent nodes for this position\n",
    "    # if one position has value then find the position behind it\n",
    "    # if the hoping position is empty then add it to list\n",
    "    # for 3,-4 ad_list = 3,-5; 2,-4; 2,-3; 3,-3\n",
    "    # 2,-3 has peg, x_diff = 2 - 3, y_diff = -3 + 4 then behind_of_pos = 2 + x_diff, -3 + y_diff\n",
    "    "
   ]
  },
  {
   "cell_type": "code",
   "execution_count": null,
   "id": "1fca5887",
   "metadata": {},
   "outputs": [],
   "source": [
    "def next_move_by_jump(pos: )"
   ]
  },
  {
   "cell_type": "code",
   "execution_count": null,
   "id": "5e383634",
   "metadata": {},
   "outputs": [],
   "source": [
    "# TODO: calculate the moves for all pegs and find the best one\n",
    "# consider other's move with the peg by itself\n",
    "# min max algo"
   ]
  },
  {
   "cell_type": "code",
   "execution_count": 11,
   "id": "c4fb2f7b",
   "metadata": {},
   "outputs": [
    {
     "data": {
      "text/plain": [
       "['-2,5', '-1,3', '0,-1', '0,2', '2,-3', '3,-4']"
      ]
     },
     "execution_count": 11,
     "metadata": {},
     "output_type": "execute_result"
    }
   ],
   "source": [
    "string = \"-2 ,5; -1 ,3;0 , -1;0 ,2;2 , -3;3 , -4:-3 , -2; -3 , -1; -1 , -2;0 ,0;0 ,1; -1 , -1:-5 ,2; -4 ,1; -4 ,3; -2 , -3; -2 ,0; -1 , -3\"\n",
    "positions = string.split(':')\n",
    "a_pegs =  [remove_space(pos) for pos in positions[0].split(';')]\n",
    "a_pegs"
   ]
  },
  {
   "cell_type": "code",
   "execution_count": 34,
   "id": "559f83ab",
   "metadata": {},
   "outputs": [
    {
     "data": {
      "text/plain": [
       "2"
      ]
     },
     "execution_count": 34,
     "metadata": {},
     "output_type": "execute_result"
    }
   ],
   "source": [
    "\"-2 ,5; -1 ,3;0 , -1;0 ,2;2 , -3;3 , -4\".split(';')[0].split(',')\n",
    "['-2,5', '-1,3', '0,-1', '0,2', '2,-3', '3,-4'].index('0,-1')"
   ]
  },
  {
   "cell_type": "code",
   "execution_count": 10,
   "id": "f108f7b4",
   "metadata": {},
   "outputs": [
    {
     "data": {
      "text/plain": [
       "'-2,5'"
      ]
     },
     "execution_count": 10,
     "metadata": {},
     "output_type": "execute_result"
    }
   ],
   "source": [
    "def remove_space(s: str) -> str:\n",
    "    new_s = \"\"\n",
    "    for c in s:\n",
    "        if not c.isspace():\n",
    "            new_s += c\n",
    "    return new_s\n",
    "remove_space('-2 ,5')"
   ]
  },
  {
   "cell_type": "code",
   "execution_count": 13,
   "id": "d62eaa20",
   "metadata": {},
   "outputs": [
    {
     "data": {
      "text/plain": [
       "True"
      ]
     },
     "execution_count": 13,
     "metadata": {},
     "output_type": "execute_result"
    }
   ],
   "source": [
    "a = \"A\"\n",
    "f\"{a}_home\" == \"A_home\""
   ]
  },
  {
   "cell_type": "code",
   "execution_count": 44,
   "id": "75fa5cd9",
   "metadata": {},
   "outputs": [
    {
     "name": "stdout",
     "output_type": "stream",
     "text": [
      "{'conn_coors': ['-2,-3', '-3,-2'], 'heuristic': [9, 0, 9], 'type': 'B_home', 'hold': None}\n",
      "C_home, B_home, None, C\n"
     ]
    },
    {
     "data": {
      "text/plain": [
       "False"
      ]
     },
     "execution_count": 44,
     "metadata": {},
     "output_type": "execute_result"
    }
   ],
   "source": [
    "peg_turn = {\"A\": 0, \"B\": 1, \"C\": 2}\n",
    "turn_peg = {0: \"A\", 1: \"B\", 2: \"C\"}\n",
    "board[\"-3,-3\"][HOLD] = None\n",
    "print(board[\"-3,-3\"])\n",
    "def swapable(hoping_pos, turn):\n",
    "    # check if swap is possible or not\n",
    "    peg = board[hoping_pos]\n",
    "    peg_n = turn_peg[turn]\n",
    "    peg_hold = peg[HOLD]\n",
    "    home_peg = f\"{peg_n}_home\"\n",
    "    print(f\"{home_peg}, {peg[TYPE]}, {peg_hold}, {peg_n}\")\n",
    "    if home_peg == peg[TYPE] and peg_hold != None and peg_hold != peg_n:\n",
    "        return True\n",
    "    else:\n",
    "        return False\n",
    "    \n",
    "swapable(\"-3,-3\", 2)"
   ]
  },
  {
   "cell_type": "code",
   "execution_count": 32,
   "id": "0ab49894",
   "metadata": {},
   "outputs": [
    {
     "name": "stdout",
     "output_type": "stream",
     "text": [
      "A_home, A_home, B, A\n"
     ]
    },
    {
     "data": {
      "text/plain": [
       "'-3,6'"
      ]
     },
     "execution_count": 32,
     "metadata": {},
     "output_type": "execute_result"
    }
   ],
   "source": [
    "def is_jump_possible(jp: str, hp: str, turn):\n",
    "    jumping_peg = jp.split(\",\")\n",
    "    jp_x = int(jumping_peg[0])\n",
    "    jp_y = int(jumping_peg[1])\n",
    "    helper_peg = hp.split(\",\")\n",
    "    hp_x = int(helper_peg[0])\n",
    "    hp_y = int(helper_peg[1])\n",
    "\n",
    "    # TODO: correctly define jumping peg\n",
    "\n",
    "    x_diff = hp_x - jp_x\n",
    "    y_diff = hp_y - jp_y\n",
    "\n",
    "    # print(f\"Jumping : {jp}, helper: {hp}\")\n",
    "    hoping_pos = f\"{hp_x + x_diff},{hp_y + y_diff}\"\n",
    "    # print(hoping_pos)\n",
    "    # if hoping position is free to move then return position or return none\n",
    "    if hoping_pos in board:\n",
    "        hoping_pos_peg = board[hoping_pos][HOLD]\n",
    "        if hoping_pos_peg == None:\n",
    "            return hoping_pos\n",
    "        else:\n",
    "            if swapable(hoping_pos, turn):\n",
    "                # swap two peg\n",
    "                temp = hoping_pos_peg\n",
    "                board[hoping_pos][HOLD] = None\n",
    "                board[jp][HOLD] = temp\n",
    "                return hoping_pos\n",
    "            return None\n",
    "\n",
    "board[\"-2,5\"][HOLD] = \"A\"        \n",
    "is_jump_possible(\"-1,4\", \"-2,5\", 0)"
   ]
  },
  {
   "cell_type": "code",
   "execution_count": 37,
   "id": "951470b7",
   "metadata": {},
   "outputs": [
    {
     "data": {
      "text/plain": [
       "[('YZ', -1), ('ZA', 0), ('A', 2), ('S', 23)]"
      ]
     },
     "execution_count": 37,
     "metadata": {},
     "output_type": "execute_result"
    }
   ],
   "source": [
    "li = [(\"A\", 2), (\"S\", 23), (\"ZA\", 0), (\"YZ\", -1)]\n",
    "li.sort(key= lambda x: x[1], reverse= False)\n",
    "li"
   ]
  },
  {
   "cell_type": "code",
   "execution_count": null,
   "id": "0d338b41",
   "metadata": {},
   "outputs": [],
   "source": [
    "{\n",
    "                \"A\" : [\"3,-6\", \"2,-5\", \"3,-5\", \"1,-4\", \"2,-4\", \"3,-4\"],\n",
    "                \"B\" : [\"3,3\", \"2,3\", \"3,2\", \"1,3\", \"2,2\", \"3,1\"],\n",
    "                \"C\" : [\"-6,3\", \"-5,3\", \"-5,2\", \"-4,1\", \"-4,2\", \"-4,3\"]\n",
    "            }\n",
    "\n",
    "{\n",
    "                \"A\" : [\"3,-4\", \"2,-3\", \"0,-1\", \"0,2\", \"-1,3\", \"-2,5\"],\n",
    "                \"B\" : [\"-3,-2\", \"-3,-1\", \"-1,-1\", \"0,0\", \"-1,-2\", \"0,1\"],\n",
    "                \"C\" : [\"-5,2\", \"-4,1\", \"-4,3\", \"-2,0\", \"-2,-3\", \"-1,-3\"]\n",
    "            }"
   ]
  },
  {
   "cell_type": "code",
   "execution_count": 78,
   "id": "e60805f0",
   "metadata": {},
   "outputs": [
    {
     "data": {
      "text/plain": [
       "({'A': ['3,-4', '2,-3', '0,-1', '0,2', '-1,3', '-2,5'],\n",
       "  'B': ['-3,-2', '-3,-1', '-1,-1', '0,0', '-1,-2', '0,1'],\n",
       "  'C': ['-5,2', '-4,1', '-4,3', '-2,0', '-2,-3', '-1,-3']},\n",
       " {'A': ['-3,6', '2,-3', '0,-1', '0,2', '-1,3', '-2,5'],\n",
       "  'B': ['-3,-2', '-3,-1', '-1,-1', '0,0', '-1,-2', '0,1'],\n",
       "  'C': ['-5,2', '-4,1', '-4,3', '-2,0', '-2,-3', '-1,-3']})"
      ]
     },
     "execution_count": 78,
     "metadata": {},
     "output_type": "execute_result"
    }
   ],
   "source": [
    "import copy\n",
    "pos = {         \"A\" : [\"3,-4\", \"2,-3\", \"0,-1\", \"0,2\", \"-1,3\", \"-2,5\"],\n",
    "                \"B\" : [\"-3,-2\", \"-3,-1\", \"-1,-1\", \"0,0\", \"-1,-2\", \"0,1\"],\n",
    "                \"C\" : [\"-5,2\", \"-4,1\", \"-4,3\", \"-2,0\", \"-2,-3\", \"-1,-3\"]\n",
    "            }\n",
    "c_pos = copy.deepcopy(pos)\n",
    "c_pos[\"A\"][0] = \"-3,6\"\n",
    "pos, c_pos"
   ]
  },
  {
   "cell_type": "code",
   "execution_count": 72,
   "id": "f21be60b",
   "metadata": {},
   "outputs": [],
   "source": [
    "board\n",
    "def reset_board(board):\n",
    "    for key, value in board.items():\n",
    "        value['hold'] = None\n",
    "    return board\n",
    "board = reset_board(board)\n",
    "board\n",
    "def update_pegs_info(board, peg_pos):\n",
    "    # reset board\n",
    "    res_board = reset_board(board)\n",
    "    # update board\n",
    "    for key, value in peg_pos.items():\n",
    "        for val in value:\n",
    "            res_board[val]['hold'] = key\n",
    "    return res_board\n",
    "#board = update_pegs_info(board, pos)\n",
    "#board"
   ]
  },
  {
   "cell_type": "code",
   "execution_count": 79,
   "id": "f86a96a6",
   "metadata": {},
   "outputs": [
    {
     "data": {
      "text/plain": [
       "'3,-4;1,-2;-1,0;1,0;-1,2;-1,4;-3,6'"
      ]
     },
     "execution_count": 79,
     "metadata": {},
     "output_type": "execute_result"
    }
   ],
   "source": [
    "\";\".join((0, ['3,-4', '1,-2', '-1,0', '1,0', '-1,2', '-1,4', '-3,6'], 'H')[1])"
   ]
  },
  {
   "cell_type": "code",
   "execution_count": 83,
   "id": "c2b11e15",
   "metadata": {},
   "outputs": [
    {
     "data": {
      "text/plain": [
       "False"
      ]
     },
     "execution_count": 83,
     "metadata": {},
     "output_type": "execute_result"
    }
   ],
   "source": [
    "def is_initial(positions: [str], turn) -> bool:\n",
    "    start_peg = \"A_start\"\n",
    "    # experimental if number of list is greater or equal to 3, we treat it as a initial game\n",
    "    return len([pos for pos in positions if board[pos][HOLD] == \"A\" and board[pos][TYPE]==start_peg]) >= 3\n",
    "pos = ['1,-4', '2,-4', '3,-4', '2,-5', '3,-5', '3,-6']\n",
    "is_initial(pos, 0)"
   ]
  },
  {
   "cell_type": "code",
   "execution_count": 84,
   "id": "7fe0f484",
   "metadata": {},
   "outputs": [
    {
     "data": {
      "text/plain": [
       "2"
      ]
     },
     "execution_count": 84,
     "metadata": {},
     "output_type": "execute_result"
    }
   ],
   "source": [
    "['1,-4', '2,-4', '3,-4', '2,-5', '3,-5', '3,-6'].index('3,-4')"
   ]
  },
  {
   "cell_type": "code",
   "execution_count": 85,
   "id": "5525b311",
   "metadata": {},
   "outputs": [],
   "source": [
    "a, b = 2, 3"
   ]
  },
  {
   "cell_type": "code",
   "execution_count": 87,
   "id": "bb1999a1",
   "metadata": {},
   "outputs": [
    {
     "data": {
      "text/plain": [
       "True"
      ]
     },
     "execution_count": 87,
     "metadata": {},
     "output_type": "execute_result"
    }
   ],
   "source": [
    "\"3,-4\"=='3,-4'"
   ]
  },
  {
   "cell_type": "code",
   "execution_count": null,
   "id": "a9d487f0",
   "metadata": {},
   "outputs": [],
   "source": []
  }
 ],
 "metadata": {
  "kernelspec": {
   "display_name": "Python 3",
   "language": "python",
   "name": "python3"
  },
  "language_info": {
   "codemirror_mode": {
    "name": "ipython",
    "version": 3
   },
   "file_extension": ".py",
   "mimetype": "text/x-python",
   "name": "python",
   "nbconvert_exporter": "python",
   "pygments_lexer": "ipython3",
   "version": "3.8.8"
  }
 },
 "nbformat": 4,
 "nbformat_minor": 5
}
